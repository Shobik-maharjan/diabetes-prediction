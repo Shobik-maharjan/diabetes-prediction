{
 "cells": [
  {
   "cell_type": "code",
   "execution_count": 26,
   "id": "a3ab2a95-abcb-4510-9377-dd68572605f3",
   "metadata": {},
   "outputs": [],
   "source": [
    "import numpy as np\n",
    "import pandas as pd\n",
    "from sklearn.preprocessing import scale, StandardScaler\n",
    "from sklearn.model_selection import train_test_split, GridSearchCV, cross_val_score\n",
    "from sklearn.metrics import confusion_matrix, accuracy_score, mean_squared_error, r2_score, roc_auc_score, roc_curve, classification_report\n",
    "import warnings\n",
    "from sklearn.linear_model import LinearRegression\n",
    "\n",
    "warnings.simplefilter(action='ignore')\n",
    "sns.set()\n",
    "plt.style.use(\"ggplot\")\n",
    "%matplotlib inline"
   ]
  },
  {
   "cell_type": "code",
   "execution_count": 8,
   "id": "e44c9308-e24a-4751-932b-19e6b89baf70",
   "metadata": {},
   "outputs": [],
   "source": [
    " # read the dataset from directory\n",
    " df = pd.read_csv(\"cleaned_data.csv\")"
   ]
  },
  {
   "cell_type": "code",
   "execution_count": 9,
   "id": "fa29ee20-efeb-4995-8193-4c4159e0000d",
   "metadata": {},
   "outputs": [
    {
     "data": {
      "text/plain": [
       "Index(['Pregnancies', 'Glucose', 'BloodPressure', 'SkinThickness', 'Insulin',\n",
       "       'BMI', 'DiabetesPedigreeFunction', 'Age', 'Outcome'],\n",
       "      dtype='object')"
      ]
     },
     "execution_count": 9,
     "metadata": {},
     "output_type": "execute_result"
    }
   ],
   "source": [
    "df.columns"
   ]
  },
  {
   "cell_type": "code",
   "execution_count": 11,
   "id": "f51adad6-6797-4893-99cc-03d155f155c9",
   "metadata": {},
   "outputs": [],
   "source": [
    "filtered_df = df[['Age', 'BMI', 'Glucose','SkinThickness']]"
   ]
  },
  {
   "cell_type": "code",
   "execution_count": 12,
   "id": "ad9937cc-cc44-4db6-b6c2-490cbdd40ae1",
   "metadata": {},
   "outputs": [
    {
     "data": {
      "text/plain": [
       "Index(['Age', 'BMI', 'Glucose', 'SkinThickness'], dtype='object')"
      ]
     },
     "execution_count": 12,
     "metadata": {},
     "output_type": "execute_result"
    }
   ],
   "source": [
    "filtered_df.columns"
   ]
  },
  {
   "cell_type": "code",
   "execution_count": 13,
   "id": "7dfaa310-d964-4385-8694-ff4a980a1a38",
   "metadata": {},
   "outputs": [],
   "source": [
    "y = df['SkinThickness']\n",
    "X = df.drop(columns=['SkinThickness'])"
   ]
  },
  {
   "cell_type": "code",
   "execution_count": 16,
   "id": "00a4bb1e-1e21-4da1-850e-ecf64de8ec71",
   "metadata": {},
   "outputs": [],
   "source": [
    "X_train, X_test, y_train, y_test = train_test_split(X, y, test_size=0.2, random_state=0)"
   ]
  },
  {
   "cell_type": "code",
   "execution_count": 17,
   "id": "ff5505ef-3656-4616-bf3c-6aeaf8928da7",
   "metadata": {},
   "outputs": [],
   "source": [
    "# Cell 5: Feature Scaling\n",
    "scaler = StandardScaler()\n",
    "X_train = scaler.fit_transform(X_train)\n",
    "X_test = scaler.transform(X_test)"
   ]
  },
  {
   "cell_type": "code",
   "execution_count": 24,
   "id": "46b5c601-31d8-4865-bcca-242ae65a6c5b",
   "metadata": {},
   "outputs": [],
   "source": [
    "model = LogisticRegression()\n",
    "model.fit(X_train, y_train)"
   ]
  },
  {
   "cell_type": "code",
   "execution_count": 28,
   "id": "eff6aad6-d32d-4fe5-bde4-b822a12420ef",
   "metadata": {},
   "outputs": [],
   "source": [
    "predictions = model.predict(X_test)"
   ]
  },
  {
   "cell_type": "code",
   "execution_count": 29,
   "id": "f361c2c7-b8b6-4402-9743-93ddc22ab86d",
   "metadata": {},
   "outputs": [
    {
     "ename": "AttributeError",
     "evalue": "'LogisticRegression' object has no attribute 'score'",
     "output_type": "error",
     "traceback": [
      "\u001b[1;31m---------------------------------------------------------------------------\u001b[0m",
      "\u001b[1;31mAttributeError\u001b[0m                            Traceback (most recent call last)",
      "Cell \u001b[1;32mIn[29], line 1\u001b[0m\n\u001b[1;32m----> 1\u001b[0m score \u001b[38;5;241m=\u001b[39m \u001b[43mmodel\u001b[49m\u001b[38;5;241;43m.\u001b[39;49m\u001b[43mscore\u001b[49m(X_test, y_test)\n\u001b[0;32m      2\u001b[0m \u001b[38;5;28mprint\u001b[39m(\u001b[38;5;124mf\u001b[39m\u001b[38;5;124m'\u001b[39m\u001b[38;5;124mModel R^2 Score: \u001b[39m\u001b[38;5;132;01m{\u001b[39;00mscore\u001b[38;5;132;01m:\u001b[39;00m\u001b[38;5;124m.2f\u001b[39m\u001b[38;5;132;01m}\u001b[39;00m\u001b[38;5;124m'\u001b[39m)\n",
      "\u001b[1;31mAttributeError\u001b[0m: 'LogisticRegression' object has no attribute 'score'"
     ]
    }
   ],
   "source": [
    "score = model.score(X_test, y_test)\n",
    "print(f'Model R^2 Score: {score:.2f}')"
   ]
  },
  {
   "cell_type": "code",
   "execution_count": 21,
   "id": "a5b855ff-c647-4958-80df-78bfd86ceb98",
   "metadata": {},
   "outputs": [
    {
     "name": "stdout",
     "output_type": "stream",
     "text": [
      "Predictions: [1 1 1 1 1 1 1 1 1 1 1 1 1 1 1 1 1 1 1 1 1 1 1 1 1 1 1 1 1 1 1 1 1 1 1 1 1\n",
      " 1 1 1 1 1 1 1 1 1 1 1 1 1 1 1 1 1 1 1 1 1 1 1 1 1 1 1 1 1 1 1 1 1 1 1 1 1\n",
      " 1 1 1 1 1 1 1 1 1 1 1 1 1 1 1 1 1 1 1 1 1 1 1 1 1 1 1 1 1 1 1 1 1 1 1 1 1\n",
      " 1 1 1 1 1 1 1 1 1 1 1 1 1 1 1 1 1 1 1 1 1 1 1 1 1 1 1 1 1 1 1 1 1 1 1 1 1\n",
      " 1 1 1 1]\n",
      "Accuracy: 0.00%\n",
      "Confusion Matrix:\n",
      "[[0 0 0 ... 0 0 0]\n",
      " [1 0 0 ... 0 0 0]\n",
      " [2 0 0 ... 0 0 0]\n",
      " ...\n",
      " [4 0 0 ... 0 0 0]\n",
      " [2 0 0 ... 0 0 0]\n",
      " [1 0 0 ... 0 0 0]]\n",
      "Classification Report:\n",
      "              precision    recall  f1-score   support\n",
      "\n",
      "         1.0       0.00      0.00      0.00       0.0\n",
      "         7.0       0.00      0.00      0.00       1.0\n",
      "        11.0       0.00      0.00      0.00       2.0\n",
      "        13.0       0.00      0.00      0.00       4.0\n",
      "        14.0       0.00      0.00      0.00       1.0\n",
      "        15.0       0.00      0.00      0.00       2.0\n",
      "        16.0       0.00      0.00      0.00       1.0\n",
      "        17.0       0.00      0.00      0.00       3.0\n",
      "        18.0       0.00      0.00      0.00       2.0\n",
      "        19.0       0.00      0.00      0.00       2.0\n",
      "        21.0       0.00      0.00      0.00       2.0\n",
      "        22.0       0.00      0.00      0.00       4.0\n",
      "        23.0       0.00      0.00      0.00       3.0\n",
      "        24.0       0.00      0.00      0.00       1.0\n",
      "        25.0       0.00      0.00      0.00       3.0\n",
      "        26.0       0.00      0.00      0.00       1.0\n",
      "        27.0       0.00      0.00      0.00      36.0\n",
      "        28.0       0.00      0.00      0.00       6.0\n",
      "        29.0       0.00      0.00      0.00       3.0\n",
      "        30.0       0.00      0.00      0.00       9.0\n",
      "        31.0       0.00      0.00      0.00       2.0\n",
      "        32.0       0.00      0.00      0.00      31.0\n",
      "        33.0       0.00      0.00      0.00       3.0\n",
      "        34.0       0.00      0.00      0.00       1.0\n",
      "        35.0       0.00      0.00      0.00       1.0\n",
      "        36.0       0.00      0.00      0.00       2.0\n",
      "        37.0       0.00      0.00      0.00       1.0\n",
      "        38.0       0.00      0.00      0.00       1.0\n",
      "        39.0       0.00      0.00      0.00       3.0\n",
      "        40.0       0.00      0.00      0.00       5.0\n",
      "        41.0       0.00      0.00      0.00       4.0\n",
      "        42.0       0.00      0.00      0.00       3.0\n",
      "        45.0       0.00      0.00      0.00       2.0\n",
      "        46.0       0.00      0.00      0.00       4.0\n",
      "        50.0       0.00      0.00      0.00       2.0\n",
      "        54.0       0.00      0.00      0.00       1.0\n",
      "\n",
      "    accuracy                           0.00     152.0\n",
      "   macro avg       0.00      0.00      0.00     152.0\n",
      "weighted avg       0.00      0.00      0.00     152.0\n",
      "\n"
     ]
    }
   ],
   "source": [
    "acc = accuracy_score(y_test, predictions)\n",
    "print(\"Predictions:\", predictions)\n",
    "print(f\"Accuracy: {acc:.2f}%\")\n",
    "print(\"Confusion Matrix:\")\n",
    "print(confusion_matrix(y_test, predictions))\n",
    "print(\"Classification Report:\")\n",
    "print(classification_report(y_test, predictions))"
   ]
  },
  {
   "cell_type": "code",
   "execution_count": null,
   "id": "de6c2d29-0bfa-4cae-bcb7-33bdbe0ed095",
   "metadata": {},
   "outputs": [],
   "source": []
  }
 ],
 "metadata": {
  "kernelspec": {
   "display_name": "Python 3 (ipykernel)",
   "language": "python",
   "name": "python3"
  },
  "language_info": {
   "codemirror_mode": {
    "name": "ipython",
    "version": 3
   },
   "file_extension": ".py",
   "mimetype": "text/x-python",
   "name": "python",
   "nbconvert_exporter": "python",
   "pygments_lexer": "ipython3",
   "version": "3.12.4"
  }
 },
 "nbformat": 4,
 "nbformat_minor": 5
}
